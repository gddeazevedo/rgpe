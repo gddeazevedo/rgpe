{
 "cells": [
  {
   "cell_type": "code",
   "execution_count": null,
   "id": "80f805cc",
   "metadata": {},
   "outputs": [
    {
     "name": "stdout",
     "output_type": "stream",
     "text": [
      "Treinando modelo SVR...\n"
     ]
    }
   ],
   "source": [
    "import pandas as pd\n",
    "import matplotlib.pyplot as plt\n",
    "from sklearn.svm import SVR\n",
    "from sklearn.model_selection import train_test_split\n",
    "from sklearn.preprocessing import StandardScaler\n",
    "from sklearn.metrics import r2_score, mean_squared_error\n",
    "\n",
    "\n",
    "df = pd.read_csv(\"dataset/gram_distance.csv\")\n",
    "\n",
    "X = df[[\"gram_point\"]].values\n",
    "y = df[\"distance_to_zero\"].values\n",
    "\n",
    "scaler = StandardScaler()\n",
    "X = scaler.fit_transform(X)\n",
    "\n",
    "X_train, X_test, y_train, y_test = train_test_split(\n",
    "    X, y, test_size=0.2, random_state=42\n",
    ")\n",
    "\n",
    "svr = SVR(kernel=\"rbf\", C=1.0, epsilon=0.1)\n",
    "print(\"Treinando modelo SVR...\")\n",
    "svr.fit(X_train, y_train)\n",
    "\n",
    "y_pred = svr.predict(X_test)\n",
    "\n",
    "mse = mean_squared_error(y_test, y_pred)\n",
    "r2 = r2_score(y_test, y_pred)\n",
    "\n",
    "print(f\"MSE: {mse:.8f}\")\n",
    "print(f\"R²  : {r2:.8f}\")\n",
    "\n",
    "plt.scatter(df[\"gram_point\"], df[\"distance_to_zero\"], s=5, alpha=0.6)\n",
    "plt.xlabel(\"Gram Point\")\n",
    "plt.ylabel(\"Distance to Zero\")\n",
    "plt.title(\"Dispersão: Gram Point vs Distance to Zero\")\n",
    "plt.grid(True)\n",
    "plt.show()\n"
   ]
  },
  {
   "cell_type": "markdown",
   "id": "ae9a7cd8",
   "metadata": {},
   "source": [
    "## Verificando hiperparametros"
   ]
  },
  {
   "cell_type": "code",
   "execution_count": null,
   "id": "1514ef7f",
   "metadata": {},
   "outputs": [],
   "source": [
    "from sklearn.model_selection import GridSearchCV\n",
    "\n",
    "param_grid = {\n",
    "    'C': [0.1, 1, 10, 100],\n",
    "    'epsilon': [0.01, 0.1, 0.5],\n",
    "    'gamma': ['scale', 'auto', 0.1, 1, 10]\n",
    "}\n",
    "\n",
    "grid = GridSearchCV(SVR(kernel='rbf'), param_grid, cv=5)\n",
    "grid.fit(X_train, y_train)\n",
    "\n",
    "print(\"Melhores parâmetros:\", grid.best_params_)\n"
   ]
  }
 ],
 "metadata": {
  "kernelspec": {
   "display_name": "Python 3 (ipykernel)",
   "language": "python",
   "name": "python3"
  },
  "language_info": {
   "codemirror_mode": {
    "name": "ipython",
    "version": 3
   },
   "file_extension": ".py",
   "mimetype": "text/x-python",
   "name": "python",
   "nbconvert_exporter": "python",
   "pygments_lexer": "ipython3",
   "version": "3.13.5"
  }
 },
 "nbformat": 4,
 "nbformat_minor": 5
}
