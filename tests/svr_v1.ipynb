{
 "cells": [
  {
   "cell_type": "code",
   "execution_count": null,
   "id": "80f805cc",
   "metadata": {},
   "outputs": [],
   "source": [
    "import pandas as pd\n",
    "from sklearn.svm import SVR\n",
    "from sklearn.model_selection import train_test_split\n",
    "from sklearn.preprocessing import StandardScaler\n",
    "from sklearn.metrics import root_mean_squared_error, r2_score, mean_squared_error\n",
    "\n",
    "\n",
    "df = pd.read_csv(\"dataset/gram_distance.csv\")\n",
    "\n",
    "X = df[[\"gram_point\"]].values\n",
    "y = df[\"distance_to_zero\"].values\n",
    "\n",
    "X_train, X_test, y_train, y_test = train_test_split(\n",
    "    X, y, test_size=0.2, random_state=42\n",
    ")\n",
    "\n",
    "svr = SVR(kernel=\"rbf\", C=1.0, epsilon=0.1)\n",
    "print(\"Treinando modelo SVR...\")\n",
    "svr.fit(X_train, y_train)\n",
    "\n",
    "y_pred = svr.predict(X_test)\n",
    "\n",
    "# rmse = root_mean_squared_error(y_test[:10], y_pred)\n",
    "r2 = r2_score(y_test, y_pred)\n",
    "\n",
    "# print(f\"RMSE: {rmse:.8f}\")\n",
    "print(f\"R²  : {r2:.8f}\")\n"
   ]
  }
 ],
 "metadata": {
  "kernelspec": {
   "display_name": "Python 3 (ipykernel)",
   "language": "python",
   "name": "python3"
  }
 },
 "nbformat": 4,
 "nbformat_minor": 5
}
